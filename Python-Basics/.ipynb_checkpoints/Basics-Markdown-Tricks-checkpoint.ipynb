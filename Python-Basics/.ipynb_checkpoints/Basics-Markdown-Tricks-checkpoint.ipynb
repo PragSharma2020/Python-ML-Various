{
 "cells": [
  {
   "cell_type": "markdown",
   "metadata": {},
   "source": [
    "**This Notebook contains Notebook Markup Tricks**"
   ]
  },
  {
   "cell_type": "markdown",
   "metadata": {},
   "source": [
    "https://medium.com/ibm-data-science-experience/markdown-for-jupyter-notebooks-cheatsheet-386c05aeebed\n",
    "# Title\n",
    "## Major headings \n",
    "### Subheadings \n",
    "#### 4th Level Subheadings\n",
    "\n",
    "**Bold** <br>\n",
    "*italic* <br>\n",
    "'Monospace Font' <br>\n",
    "<font color=red>Coloured Text</font> #color=blue|red|green|pink|yellow <br>\n",
    "> Indented Code <br>\n",
    "\n",
    "Add a line \n",
    "***\n",
    "Can only add graphics that are on the web <br>\n",
    "<img src=\"https://upload.wikimedia.org/wikipedia/commons/f/f8/Python_logo_and_wordmark.svg\" alt=\"Alt text that describes the graphic\" style=\"width:100px;height:50px;\" title=\"Title text\" /> <br>\n",
    "\n",
    "Geometric shapes (https://www.w3schools.com/charsets/ref_utf_geometric.asp) <br>\n",
    "&#9673; Use Decimal Values <br>\n",
    "\n",
    "You can add an ID for a section right above the section title. Use this code: <a id=\"section_ID\"></a><br>\n",
    "Make sure that the section_ID is unique within the notebook. <br>\n",
    "Use this code for the link and make sure to test all the links! [section title](#section_ID)\n",
    "External links: Use this code and test all links! [link text](http://url)"
   ]
  },
  {
   "cell_type": "code",
   "execution_count": null,
   "metadata": {},
   "outputs": [],
   "source": [
    "#Highlight multiple lines and use Ctrl + / to comment out multiple lines at a time"
   ]
  }
 ],
 "metadata": {
  "kernelspec": {
   "display_name": "Python 3",
   "language": "python",
   "name": "python3"
  },
  "language_info": {
   "codemirror_mode": {
    "name": "ipython",
    "version": 3
   },
   "file_extension": ".py",
   "mimetype": "text/x-python",
   "name": "python",
   "nbconvert_exporter": "python",
   "pygments_lexer": "ipython3",
   "version": "3.7.3"
  }
 },
 "nbformat": 4,
 "nbformat_minor": 4
}
