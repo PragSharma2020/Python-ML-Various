{
 "cells": [
  {
   "cell_type": "markdown",
   "metadata": {},
   "source": [
    "**This Notebook contains python built in help functions** <br>\n",
    "> https://www.linuxnix.com/python-builtin-helpdir-help-type-and-___doc_-functions/ <br>\n",
    "> https://medium.com/@rrfd/jupyter-notebook-shortcuts-tips-and-tricks-top-nbextensions-bring-order-to-your-notebooks-pt-1-b58f270963f9"
   ]
  },
  {
   "cell_type": "markdown",
   "metadata": {},
   "source": [
    "**Find version** <br>\n",
    "&#9673; #use ! to run from command line <br>\n",
    "\n",
    "**Split cell into two cells** <br>\n",
    "&#9673; CTRL + SHIFT + - (at the location you want the split) <br>\n",
    "\n",
    "**Smart Suggestion** <br>\n",
    "&#9673; (After the last char of a method or object) + tab <br>\n",
    "\n",
    "**Documentation for a method or object (how much do you want?)** <br>\n",
    "&#9673; Shift + tab <br>\n",
    "&#9673; Shift + tab + tab <br>\n",
    "&#9673; Shift + tab + tab + tab + tab <br>\n",
    "\n",
    "**See documentation for a method** <br>\n",
    "&#9673; PackageName.MethodName()? <br>\n",
    "\n",
    "**Open documentation window for a method** <br>\n",
    "&#9673; PackageName.MethodName()?? <br>"
   ]
  },
  {
   "cell_type": "code",
   "execution_count": 1,
   "metadata": {},
   "outputs": [
    {
     "name": "stdout",
     "output_type": "stream",
     "text": [
      "Python 3.7.3\n"
     ]
    }
   ],
   "source": [
    "#use ! to run from command line\n",
    "!python --version\n",
    "\n",
    "#find out version of a library from a command line\n",
    "!python -c \"import keras; print(keras.__version__)\"\n",
    "!python -c \"import tensorflow as tf; print(tf.__version__)\"  # for Python 3\n",
    "\n",
    "#or directly from a notebook after importing\n",
    "print(keras.__version__)"
   ]
  },
  {
   "cell_type": "code",
   "execution_count": 28,
   "metadata": {},
   "outputs": [
    {
     "data": {
      "text/plain": [
       "'Python dir() function\\nPython help() function\\nPython type() function\\nPython __doc__ function'"
      ]
     },
     "execution_count": 28,
     "metadata": {},
     "output_type": "execute_result"
    }
   ],
   "source": [
    "# Python dir() function\n",
    "# Python help() function\n",
    "# Python type() function\n",
    "# Python __doc__ function\n",
    "\n",
    "#['__builtins__', '__doc__', '__name__', '__package__']\n"
   ]
  },
  {
   "cell_type": "code",
   "execution_count": 21,
   "metadata": {},
   "outputs": [
    {
     "name": "stdout",
     "output_type": "stream",
     "text": [
      "Function DocStrings: \n",
      "DocStrings are an important tool that you should make use of since it helps to document the program better.\n",
      "    \n",
      "    It makes it easier to understand. Amazingly, we can even get the docstring back from, say a function, when the program \n",
      "    is actually running!\n",
      "\n",
      "Function Name: fn\n",
      "\n",
      "Function Type: <class 'function'>\n"
     ]
    }
   ],
   "source": [
    "#******************************************\n",
    "def fn(arg1, arg2):\n",
    "    '''DocStrings are an important tool that you should make use of since it helps to document the program better.\n",
    "    \n",
    "    It makes it easier to understand. Amazingly, we can even get the docstring back from, say a function, when the program \n",
    "    is actually running!'''\n",
    "    statement1\n",
    "    statement2\n",
    "\n",
    "print('Function DocStrings: \\n' + str(fn.__doc__))\n",
    "print('\\n' + 'Function Name: ' + str(fn.__name__))\n",
    "print('\\n' + 'Function Type: ' + str(type(fn)))"
   ]
  },
  {
   "cell_type": "code",
   "execution_count": 8,
   "metadata": {},
   "outputs": [
    {
     "data": {
      "text/plain": [
       "['In',\n",
       " 'Out',\n",
       " '_',\n",
       " '_2',\n",
       " '_3',\n",
       " '_4',\n",
       " '_6',\n",
       " '_7',\n",
       " '__',\n",
       " '___',\n",
       " '__builtin__',\n",
       " '__builtins__',\n",
       " '__doc__',\n",
       " '__loader__',\n",
       " '__name__',\n",
       " '__package__',\n",
       " '__spec__',\n",
       " '_dh',\n",
       " '_i',\n",
       " '_i1',\n",
       " '_i2',\n",
       " '_i3',\n",
       " '_i4',\n",
       " '_i5',\n",
       " '_i6',\n",
       " '_i7',\n",
       " '_i8',\n",
       " '_ih',\n",
       " '_ii',\n",
       " '_iii',\n",
       " '_oh',\n",
       " 'exit',\n",
       " 'get_ipython',\n",
       " 'quit']"
      ]
     },
     "execution_count": 8,
     "metadata": {},
     "output_type": "execute_result"
    }
   ],
   "source": [
    "dir() \n",
    "#the default object is the current program module, the one which the interpreter \n",
    "#is now running. "
   ]
  },
  {
   "cell_type": "code",
   "execution_count": 12,
   "metadata": {},
   "outputs": [
    {
     "data": {
      "text/plain": [
       "['__class__',\n",
       " '__delattr__',\n",
       " '__dir__',\n",
       " '__doc__',\n",
       " '__eq__',\n",
       " '__format__',\n",
       " '__ge__',\n",
       " '__get__',\n",
       " '__getattribute__',\n",
       " '__gt__',\n",
       " '__hash__',\n",
       " '__init__',\n",
       " '__init_subclass__',\n",
       " '__le__',\n",
       " '__lt__',\n",
       " '__ne__',\n",
       " '__new__',\n",
       " '__reduce__',\n",
       " '__reduce_ex__',\n",
       " '__repr__',\n",
       " '__self__',\n",
       " '__self_class__',\n",
       " '__setattr__',\n",
       " '__sizeof__',\n",
       " '__str__',\n",
       " '__subclasshook__',\n",
       " '__thisclass__']"
      ]
     },
     "execution_count": 12,
     "metadata": {},
     "output_type": "execute_result"
    }
   ],
   "source": [
    "dir(super)"
   ]
  },
  {
   "cell_type": "code",
   "execution_count": 2,
   "metadata": {},
   "outputs": [
    {
     "data": {
      "text/plain": [
       "['__class__',\n",
       " '__delattr__',\n",
       " '__dir__',\n",
       " '__doc__',\n",
       " '__eq__',\n",
       " '__format__',\n",
       " '__ge__',\n",
       " '__get__',\n",
       " '__getattribute__',\n",
       " '__gt__',\n",
       " '__hash__',\n",
       " '__init__',\n",
       " '__init_subclass__',\n",
       " '__le__',\n",
       " '__lt__',\n",
       " '__ne__',\n",
       " '__new__',\n",
       " '__reduce__',\n",
       " '__reduce_ex__',\n",
       " '__repr__',\n",
       " '__self__',\n",
       " '__self_class__',\n",
       " '__setattr__',\n",
       " '__sizeof__',\n",
       " '__str__',\n",
       " '__subclasshook__',\n",
       " '__thisclass__']"
      ]
     },
     "execution_count": 2,
     "metadata": {},
     "output_type": "execute_result"
    }
   ],
   "source": [
    "help(super) "
   ]
  },
  {
   "cell_type": "code",
   "execution_count": 14,
   "metadata": {},
   "outputs": [
    {
     "data": {
      "text/plain": [
       "['__add__',\n",
       " '__class__',\n",
       " '__contains__',\n",
       " '__delattr__',\n",
       " '__dir__',\n",
       " '__doc__',\n",
       " '__eq__',\n",
       " '__format__',\n",
       " '__ge__',\n",
       " '__getattribute__',\n",
       " '__getitem__',\n",
       " '__getnewargs__',\n",
       " '__gt__',\n",
       " '__hash__',\n",
       " '__init__',\n",
       " '__init_subclass__',\n",
       " '__iter__',\n",
       " '__le__',\n",
       " '__len__',\n",
       " '__lt__',\n",
       " '__mul__',\n",
       " '__ne__',\n",
       " '__new__',\n",
       " '__reduce__',\n",
       " '__reduce_ex__',\n",
       " '__repr__',\n",
       " '__rmul__',\n",
       " '__setattr__',\n",
       " '__sizeof__',\n",
       " '__str__',\n",
       " '__subclasshook__',\n",
       " 'count',\n",
       " 'index']"
      ]
     },
     "execution_count": 14,
     "metadata": {},
     "output_type": "execute_result"
    }
   ],
   "source": [
    "name_tuple = (\"John\", \"55\", \"Jerry\", \"5\", \"Jimmy\", \"545\")\n",
    "dir(name_tuple)"
   ]
  },
  {
   "cell_type": "code",
   "execution_count": null,
   "metadata": {},
   "outputs": [],
   "source": []
  }
 ],
 "metadata": {
  "kernelspec": {
   "display_name": "Python 3",
   "language": "python",
   "name": "python3"
  },
  "language_info": {
   "codemirror_mode": {
    "name": "ipython",
    "version": 3
   },
   "file_extension": ".py",
   "mimetype": "text/x-python",
   "name": "python",
   "nbconvert_exporter": "python",
   "pygments_lexer": "ipython3",
   "version": "3.7.3"
  }
 },
 "nbformat": 4,
 "nbformat_minor": 4
}
