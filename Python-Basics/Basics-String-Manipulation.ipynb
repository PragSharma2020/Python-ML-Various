{
 "cells": [
  {
   "cell_type": "markdown",
   "metadata": {},
   "source": [
    "**This Notebook contains the following examples** <br>\n",
    "> &#9673; passing \\**param & \\***param <br>\n",
    "> &#9673; \\___doc\\___ to print doc strings <br>\n",
    "> &#9673; list, tuples, dictionary, sets, splicing <br>"
   ]
  },
  {
   "cell_type": "code",
   "execution_count": 1,
   "metadata": {},
   "outputs": [],
   "source": [
    "import pandas as pd  \n",
    "import numpy as np  \n",
    "import matplotlib.pyplot as plt  \n",
    "%matplotlib inline"
   ]
  },
  {
   "cell_type": "code",
   "execution_count": 2,
   "metadata": {},
   "outputs": [
    {
     "name": "stdout",
     "output_type": "stream",
     "text": [
      "Maia was 7.0 years old when she started playing Hospital Manager\n",
      "Why is Rian playing that game all day long?\n",
      "Maia is 7.0 years old\n",
      "--------------------------------------\n"
     ]
    },
    {
     "data": {
      "text/plain": [
       "'Create a block by indenting the line:Use four spaces for indentation'"
      ]
     },
     "execution_count": 2,
     "metadata": {},
     "output_type": "execute_result"
    }
   ],
   "source": [
    "'COURSE: https://python.swaroopch.com/oop.html'\n",
    "\n",
    "'''Strings Are Immutable\n",
    "This means that once you have created a string, you cannot change it'''\n",
    "from math import sqrt #importing a specific function from a module\n",
    "age = \\\n",
    "700.0E-2\n",
    "name = 'Maia'\n",
    "Name = 'Rian'\n",
    "\n",
    "print('{0} was {1} years old when she started playing Hospital Manager'.format(name, age))\n",
    "print('Why is {0} playing that game all day long?'.format(Name))\n",
    "print(name + ' is ' + str(age) + ' years old')\n",
    "print('--------------------------------------')\n",
    "\n",
    "'Create a block by indenting the line:Use four spaces for indentation'"
   ]
  },
  {
   "cell_type": "code",
   "execution_count": 1,
   "metadata": {},
   "outputs": [
    {
     "name": "stdout",
     "output_type": "stream",
     "text": [
      "a 10\n",
      "single_item 1\n",
      "single_item 2\n",
      "single_item 3\n",
      "Jack 1123\n",
      "John 2231\n",
      "Inge 1560\n",
      "None\n",
      "Positional Arguments in a function\n"
     ]
    }
   ],
   "source": [
    "'''When we declare a starred parameter such as *param, then all the positional arguments from that point till the end \n",
    "are collected as a tuple called 'param'. Similarly, when we declare a double-starred parameter such as **param, then all the \n",
    "keyword arguments from that point till the end are collected as a dictionary called 'param'.'''\n",
    "\n",
    "def total(a=5, *numbers, **phonebook):\n",
    "    '''Positional Arguments in a function'''\n",
    "    \n",
    "    print('a', a)\n",
    "\n",
    "    #iterate through all the items in tuple\n",
    "    for single_item in numbers:\n",
    "        print('single_item', single_item)\n",
    "\n",
    "    #iterate through all the items in dictionary    \n",
    "    for first_part, second_part in phonebook.items():\n",
    "        print(first_part,second_part)\n",
    "\n",
    "print(total(10,1,2,3,Jack=1123,John=2231,Inge=1560))\n",
    "\n",
    "print(total.__doc__)"
   ]
  },
  {
   "cell_type": "code",
   "execution_count": 8,
   "metadata": {},
   "outputs": [
    {
     "name": "stdout",
     "output_type": "stream",
     "text": [
      "List\n",
      "Slicing_shoplist ['apple', 'carrot']\n",
      "I have 4 items to purchase in my LIST.\n",
      "I have mango to purchase in my LIST.\n",
      "Length of a: 4\n",
      "Length of b: 1\n",
      "b[0]: [1, 2, 3, 4]\n"
     ]
    }
   ],
   "source": [
    "''' Variables usually go inside functions. Functions and global variables usually go inside modules.\n",
    "Packages are just folders of modules with a special __init__.py file that indicates to Python that this folder is \n",
    "special because it contains Python modules. Packages are just a convenience to hierarchically organize modules.'''\n",
    "\n",
    "'''A list is an example of usage of objects and classes. When we use a variable i and assign a value to it, \n",
    "say integer 5 to it, you can think of it as creating an object (i.e. instance) i of class (i.e. type) int.'''\n",
    "print('List')\n",
    "shoplist = ['apple', 'mango', 'carrot', 'banana']\n",
    "shoplist_len = str(len(shoplist))\n",
    "slicing_shoplist = shoplist[::2]\n",
    "\n",
    "print('Slicing_shoplist ' + str(slicing_shoplist))\n",
    "print('I have ' + shoplist_len + ' items to purchase in my LIST.')\n",
    "\n",
    "del shoplist[0]\n",
    "olditem = shoplist[0]\n",
    "print('I have ' + olditem + ' to purchase in my LIST.')\n",
    "\n",
    "#test\n",
    "a = [1,2,3,4]\n",
    "b=[[1,2,3,4]]\n",
    "\n",
    "print('Length of a: ' + str(len(a)))\n",
    "print('Length of b: ' + str(len(b)))\n",
    "print('b[0]: ' + str(b[0]))"
   ]
  },
  {
   "cell_type": "code",
   "execution_count": 3,
   "metadata": {},
   "outputs": [
    {
     "name": "stdout",
     "output_type": "stream",
     "text": [
      "\n",
      "Tuples\n",
      "TUPLE: ('monkey', 'camel', ('python', 'elephant', 'penguin'))\n",
      "TUPLE: new_zoo[2]=('python', 'elephant', 'penguin')\n",
      "TUPLE: new_zoo[2][2]=penguin\n",
      "SINGLETON TUPLE: (2,)\n",
      "\n",
      "Dictionary\n",
      "Swaroop's address isswaroop@swaroopch.com\n",
      "There are 3 contacts in the address-book\n",
      "Contact swaroop@swaroopch.com at swaroop@swaroopch.com\n",
      "Print the first item in a Dictionary: Swaroop\n",
      "\n",
      "Lists, tuples and strings are examples of sequence\n"
     ]
    }
   ],
   "source": [
    "'Tuples are used to hold together multiple objects. Use brackets to define tuples as opposed to squre brackets for lists'\n",
    "print('\\nTuples')\n",
    "zoo = ('python', 'elephant', 'penguin')\n",
    "new_zoo = ('monkey', 'camel', zoo)\n",
    "singleton = (2,)\n",
    "print('TUPLE: ' + str(new_zoo))\n",
    "print('TUPLE: new_zoo[2]=' + str(new_zoo[2]))\n",
    "print('TUPLE: new_zoo[2][2]=' + str(new_zoo[2][2]))\n",
    "print('SINGLETON TUPLE: ' + str(singleton))\n",
    "\n",
    "'Dictionary: Key value pairs'\n",
    "print('\\nDictionary')\n",
    "ab = {\n",
    "    'Swaroop': 'swaroop@swaroopch.com',\n",
    "    'Larry': 'larry@wall.org',\n",
    "    'Matsumoto': 'matz@ruby-lang.org',\n",
    "    'Spammer': 'spammer@hotmail.com'\n",
    "}\n",
    "\n",
    "print(\"Swaroop's address is\" + ab['Swaroop'])\n",
    "\n",
    "# Deleting a key-value pair\n",
    "del ab['Spammer']\n",
    "print('There are {} contacts in the address-book'.format(len(ab)))\n",
    "print('Contact {} at {}'.format(ab['Swaroop'], ab['Swaroop']))\n",
    "\n",
    "'''You are not guaranteed the order in a Dictionary though, normal dicts will arrange themselves however \n",
    "they think will give the best performance. f you need to keep things in order, then you have to use an \n",
    "OrderedDict and not just a plain dictionary.'''\n",
    "print('Print the first item in a Dictionary: ' + str(list(ab.keys())[0]))\n",
    "\n",
    "print('\\nLists, tuples and strings are examples of sequence')"
   ]
  },
  {
   "cell_type": "code",
   "execution_count": 5,
   "metadata": {},
   "outputs": [
    {
     "name": "stdout",
     "output_type": "stream",
     "text": [
      "\n",
      "Sets\n",
      "india in bri: True\n",
      "\n",
      "Splicing\n",
      "mylist: ['mango', 'carrot', 'banana']\n",
      "mylist_splice: ['apple', 'mango', 'carrot', 'banana']\n",
      "\n",
      "Some String Fun\n",
      "Yes, the string starts with \"Swa\"\n",
      "Yes, it contains the string \"a\"\n",
      "Yes, it contains the string \"war\"\n"
     ]
    }
   ],
   "source": [
    "'''Sets are unordered collections of simple objects. These are used when the existence of an object \n",
    "in a collection is more important than the order or how many times it occurs.'''\n",
    "print('\\nSets')\n",
    "bri = set(['brazil', 'russia', 'india'])\n",
    "print('india in bri: ' + str('india' in bri))\n",
    "\n",
    "'''BINDING: When you create an object and assign it to a variable, the variable only refers to the \n",
    "object and does not represent the object itself!'''\n",
    "\n",
    "print('\\nSplicing')\n",
    "'''Remember that if you want to make a copy of a list or such kinds of sequences or complex objects \n",
    "(not simple objects such as integers), then you have to use the slicing operation to make a copy.'''\n",
    "shoplist = ['apple', 'mango', 'carrot', 'banana']\n",
    "mylist = shoplist\n",
    "mylist_splice = shoplist[:]\n",
    "del shoplist[0]\n",
    "print('mylist: ' + str(mylist))\n",
    "print('mylist_splice: ' + str(mylist_splice))\n",
    "\n",
    "print('\\nSome String Fun')\n",
    "name = 'Swaroop'\n",
    "\n",
    "if name.startswith('Swa'):\n",
    "    print('Yes, the string starts with \"Swa\"')\n",
    "\n",
    "if 'a' in name:\n",
    "    print('Yes, it contains the string \"a\"')\n",
    "\n",
    "if name.find('war') != -1:\n",
    "    print('Yes, it contains the string \"war\"')"
   ]
  },
  {
   "cell_type": "code",
   "execution_count": 10,
   "metadata": {},
   "outputs": [],
   "source": [
    "import pandas as pd  \n",
    "import numpy as np  \n",
    "import matplotlib.pyplot as plt  \n",
    "%matplotlib inline"
   ]
  },
  {
   "cell_type": "code",
   "execution_count": 11,
   "metadata": {},
   "outputs": [
    {
     "data": {
      "text/plain": [
       "'[1 13 141 2,345 51,923 691,247]'"
      ]
     },
     "execution_count": 11,
     "metadata": {},
     "output_type": "execute_result"
    }
   ],
   "source": [
    "d = np.array([1, 13, 141, 2345, 51923, 691247])\n",
    "np.array2string(d, formatter={'int_kind': lambda x: '{:,}'.format(x)})"
   ]
  },
  {
   "cell_type": "code",
   "execution_count": 10,
   "metadata": {},
   "outputs": [
    {
     "data": {
      "text/html": [
       "<div>\n",
       "<style scoped>\n",
       "    .dataframe tbody tr th:only-of-type {\n",
       "        vertical-align: middle;\n",
       "    }\n",
       "\n",
       "    .dataframe tbody tr th {\n",
       "        vertical-align: top;\n",
       "    }\n",
       "\n",
       "    .dataframe thead th {\n",
       "        text-align: right;\n",
       "    }\n",
       "</style>\n",
       "<table border=\"1\" class=\"dataframe\">\n",
       "  <thead>\n",
       "    <tr style=\"text-align: right;\">\n",
       "      <th></th>\n",
       "      <th>A</th>\n",
       "      <th>B</th>\n",
       "    </tr>\n",
       "  </thead>\n",
       "  <tbody>\n",
       "    <tr>\n",
       "      <th>1</th>\n",
       "      <td>6</td>\n",
       "      <td>2</td>\n",
       "    </tr>\n",
       "    <tr>\n",
       "      <th>2</th>\n",
       "      <td>3</td>\n",
       "      <td>3</td>\n",
       "    </tr>\n",
       "    <tr>\n",
       "      <th>3</th>\n",
       "      <td>3</td>\n",
       "      <td>5</td>\n",
       "    </tr>\n",
       "    <tr>\n",
       "      <th>4</th>\n",
       "      <td>4</td>\n",
       "      <td>4</td>\n",
       "    </tr>\n",
       "  </tbody>\n",
       "</table>\n",
       "</div>"
      ],
      "text/plain": [
       "   A  B\n",
       "1  6  2\n",
       "2  3  3\n",
       "3  3  5\n",
       "4  4  4"
      ]
     },
     "execution_count": 10,
     "metadata": {},
     "output_type": "execute_result"
    }
   ],
   "source": [
    "df = pd.DataFrame({'A' : [5,6,3,3,4], 'B' : [1,2,3,5,4]})\n",
    "list = [3,6,4]\n",
    "#df_isin = df[df['A'].isin([3, 6])]\n",
    "df_isin = df[df['A'].isin(list)]\n",
    "df_isin"
   ]
  },
  {
   "cell_type": "code",
   "execution_count": null,
   "metadata": {},
   "outputs": [],
   "source": []
  }
 ],
 "metadata": {
  "kernelspec": {
   "display_name": "Python 3",
   "language": "python",
   "name": "python3"
  },
  "language_info": {
   "codemirror_mode": {
    "name": "ipython",
    "version": 3
   },
   "file_extension": ".py",
   "mimetype": "text/x-python",
   "name": "python",
   "nbconvert_exporter": "python",
   "pygments_lexer": "ipython3",
   "version": "3.7.3"
  }
 },
 "nbformat": 4,
 "nbformat_minor": 4
}
